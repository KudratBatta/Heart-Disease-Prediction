{
  "cells": [
    {
      "cell_type": "markdown",
      "metadata": {
        "id": "view-in-github",
        "colab_type": "text"
      },
      "source": [
        "<a href=\"https://colab.research.google.com/github/KudratBatta/Heart-Disease-Prediction/blob/main/Heart_disease.ipynb\" target=\"_parent\"><img src=\"https://colab.research.google.com/assets/colab-badge.svg\" alt=\"Open In Colab\"/></a>"
      ]
    },
    {
      "cell_type": "code",
      "execution_count": 41,
      "metadata": {
        "colab": {
          "base_uri": "https://localhost:8080/"
        },
        "id": "sWQvsyefNU2P",
        "outputId": "78d78977-f9a4-461a-cf3a-8534c7705a06"
      },
      "outputs": [
        {
          "output_type": "stream",
          "name": "stdout",
          "text": [
            "Requirement already satisfied: ucimlrepo in /usr/local/lib/python3.11/dist-packages (0.0.7)\n",
            "Requirement already satisfied: pandas>=1.0.0 in /usr/local/lib/python3.11/dist-packages (from ucimlrepo) (2.2.2)\n",
            "Requirement already satisfied: certifi>=2020.12.5 in /usr/local/lib/python3.11/dist-packages (from ucimlrepo) (2025.6.15)\n",
            "Requirement already satisfied: numpy>=1.23.2 in /usr/local/lib/python3.11/dist-packages (from pandas>=1.0.0->ucimlrepo) (2.0.2)\n",
            "Requirement already satisfied: python-dateutil>=2.8.2 in /usr/local/lib/python3.11/dist-packages (from pandas>=1.0.0->ucimlrepo) (2.9.0.post0)\n",
            "Requirement already satisfied: pytz>=2020.1 in /usr/local/lib/python3.11/dist-packages (from pandas>=1.0.0->ucimlrepo) (2025.2)\n",
            "Requirement already satisfied: tzdata>=2022.7 in /usr/local/lib/python3.11/dist-packages (from pandas>=1.0.0->ucimlrepo) (2025.2)\n",
            "Requirement already satisfied: six>=1.5 in /usr/local/lib/python3.11/dist-packages (from python-dateutil>=2.8.2->pandas>=1.0.0->ucimlrepo) (1.17.0)\n"
          ]
        }
      ],
      "source": [
        "!pip install ucimlrepo"
      ]
    },
    {
      "cell_type": "code",
      "source": [
        "import pandas as pd\n",
        "import numpy as np\n",
        "import matplotlib.pyplot as plt\n",
        "import seaborn as sns # For optional EDA if uncommented\n",
        "from ucimlrepo import fetch_ucirepo\n",
        "\n",
        "from sklearn.model_selection import train_test_split, RandomizedSearchCV\n",
        "from sklearn.preprocessing import StandardScaler, OneHotEncoder\n",
        "from sklearn.compose import ColumnTransformer\n",
        "from sklearn.pipeline import Pipeline\n",
        "from sklearn.impute import SimpleImputer\n",
        "\n",
        "from sklearn.neighbors import KNeighborsClassifier\n",
        "\n",
        "from sklearn.metrics import accuracy_score, precision_score, recall_score, f1_score, roc_auc_score, confusion_matrix, classification_report, ConfusionMatrixDisplay"
      ],
      "metadata": {
        "id": "o8JGjP7MIzan"
      },
      "execution_count": 57,
      "outputs": []
    },
    {
      "cell_type": "code",
      "source": [
        "heart_disease = fetch_ucirepo(id=45)\n",
        "\n",
        "# Extract features (X) and targets (y)\n",
        "X = heart_disease.data.features\n",
        "y = heart_disease.data.targets"
      ],
      "metadata": {
        "id": "0HObN7fyIzjP"
      },
      "execution_count": 45,
      "outputs": []
    },
    {
      "cell_type": "code",
      "source": [
        "y = (y > 0).astype(int)\n",
        "y.columns = ['target'] # Rename for clarity\n",
        "\n",
        "print(\"First 5 rows of features (X):\")\n",
        "print(X.head())\n",
        "print(\"\\nFirst 5 rows of target (y):\")\n",
        "print(y.head())\n",
        "print(f\"\\nShape of X: {X.shape}\")\n",
        "print(f\"Shape of y: {y.shape}\")"
      ],
      "metadata": {
        "colab": {
          "base_uri": "https://localhost:8080/"
        },
        "id": "gJ5ZEVfGIzmM",
        "outputId": "2f210d90-cd1f-4dc8-f14b-f768c2af4561"
      },
      "execution_count": 46,
      "outputs": [
        {
          "output_type": "stream",
          "name": "stdout",
          "text": [
            "First 5 rows of features (X):\n",
            "   age  sex  cp  trestbps  chol  fbs  restecg  thalach  exang  oldpeak  slope  \\\n",
            "0   63    1   1       145   233    1        2      150      0      2.3      3   \n",
            "1   67    1   4       160   286    0        2      108      1      1.5      2   \n",
            "2   67    1   4       120   229    0        2      129      1      2.6      2   \n",
            "3   37    1   3       130   250    0        0      187      0      3.5      3   \n",
            "4   41    0   2       130   204    0        2      172      0      1.4      1   \n",
            "\n",
            "    ca  thal  \n",
            "0  0.0   6.0  \n",
            "1  3.0   3.0  \n",
            "2  2.0   7.0  \n",
            "3  0.0   3.0  \n",
            "4  0.0   3.0  \n",
            "\n",
            "First 5 rows of target (y):\n",
            "   target\n",
            "0       0\n",
            "1       1\n",
            "2       1\n",
            "3       0\n",
            "4       0\n",
            "\n",
            "Shape of X: (303, 13)\n",
            "Shape of y: (303, 1)\n"
          ]
        }
      ]
    },
    {
      "cell_type": "code",
      "source": [
        "categorical_features = ['sex', 'cp', 'fbs', 'restecg', 'exang', 'slope', 'ca', 'thal']\n",
        "numerical_features = ['age', 'trestbps', 'chol', 'thalach', 'oldpeak']\n",
        "\n",
        "for col in ['ca', 'thal']:\n",
        "    if col in X.columns:\n",
        "        X[col] = pd.to_numeric(X[col], errors='coerce')\n",
        "\n",
        "# Split data into training and testing sets\n",
        "X_train, X_test, y_train, y_test = train_test_split(X, y, test_size=0.2, random_state=42, stratify=y)\n",
        "numerical_transformer = Pipeline(steps=[\n",
        "    ('imputer', SimpleImputer(strategy='median')), # Median for numerical to be robust to outliers\n",
        "    ('scaler', StandardScaler())\n",
        "])\n",
        "\n",
        "categorical_transformer = Pipeline(steps=[\n",
        "    ('imputer', SimpleImputer(strategy='most_frequent')), # Mode for categorical\n",
        "    ('onehot', OneHotEncoder(handle_unknown='ignore')) # Handles new categories in test set\n",
        "])"
      ],
      "metadata": {
        "colab": {
          "base_uri": "https://localhost:8080/"
        },
        "id": "gpN9J7Z1JMSU",
        "outputId": "3e858423-14bf-4ec8-ef19-6769ef0c4ee2"
      },
      "execution_count": 47,
      "outputs": [
        {
          "output_type": "stream",
          "name": "stderr",
          "text": [
            "/tmp/ipython-input-47-4031020858.py:6: SettingWithCopyWarning: \n",
            "A value is trying to be set on a copy of a slice from a DataFrame.\n",
            "Try using .loc[row_indexer,col_indexer] = value instead\n",
            "\n",
            "See the caveats in the documentation: https://pandas.pydata.org/pandas-docs/stable/user_guide/indexing.html#returning-a-view-versus-a-copy\n",
            "  X[col] = pd.to_numeric(X[col], errors='coerce')\n"
          ]
        }
      ]
    },
    {
      "cell_type": "code",
      "source": [
        "preprocessor = ColumnTransformer(\n",
        "    transformers=[\n",
        "        ('num', numerical_transformer, numerical_features),\n",
        "        ('cat', categorical_transformer, categorical_features)\n",
        "    ])\n",
        "\n",
        "print(\"\\nData splitting and preprocessing pipeline defined.\")\n"
      ],
      "metadata": {
        "colab": {
          "base_uri": "https://localhost:8080/"
        },
        "id": "9Kr3y3TmJMaj",
        "outputId": "f9d5ec77-0231-4c4d-9969-1b946a170f81"
      },
      "execution_count": 48,
      "outputs": [
        {
          "output_type": "stream",
          "name": "stdout",
          "text": [
            "\n",
            "Data splitting and preprocessing pipeline defined.\n"
          ]
        }
      ]
    },
    {
      "cell_type": "code",
      "source": [
        "# Define the K-Nearest Neighbors model\n",
        "knn_model = KNeighborsClassifier()\n",
        "\n",
        "# Define hyperparameter distributions for RandomizedSearchCV\n",
        "# These ranges are chosen to explore a good variety of KNN configurations.\n",
        "knn_param_distributions = {\n",
        "    'classifier__n_neighbors': [3, 5, 7, 9, 11, 13, 15, 17, 19, 21], # Number of neighbors\n",
        "    'classifier__weights': ['uniform', 'distance'], # Weight function used in prediction\n",
        "    'classifier__metric': ['euclidean', 'manhattan', 'minkowski'] # Distance metric\n",
        "}\n",
        "\n",
        "# Create the pipeline for KNN\n",
        "knn_pipeline = Pipeline(steps=[('preprocessor', preprocessor),\n",
        "                               ('classifier', knn_model)])\n",
        "\n",
        "print(\"\\n--- Starting Hyperparameter Tuning for K-Nearest Neighbors (using RandomizedSearchCV) ---\")"
      ],
      "metadata": {
        "colab": {
          "base_uri": "https://localhost:8080/"
        },
        "id": "m1W1IwfrJfVx",
        "outputId": "37b4117a-2fcb-4642-cf57-148a102d87b3"
      },
      "execution_count": 49,
      "outputs": [
        {
          "output_type": "stream",
          "name": "stdout",
          "text": [
            "\n",
            "--- Starting Hyperparameter Tuning for K-Nearest Neighbors (using RandomizedSearchCV) ---\n"
          ]
        }
      ]
    },
    {
      "cell_type": "code",
      "source": [
        "random_search_knn = RandomizedSearchCV(knn_pipeline, knn_param_distributions, n_iter=50,\n",
        "                                       cv=5, scoring='accuracy', n_jobs=-1,\n",
        "                                       verbose=1, random_state=42)\n",
        "\n",
        "random_search_knn.fit(X_train, y_train.values.ravel())\n",
        "\n",
        "# Get the best estimator and its parameters\n",
        "best_knn_model_pipeline = random_search_knn.best_estimator_\n",
        "best_knn_params = random_search_knn.best_params_\n",
        "best_knn_cv_score = random_search_knn.best_score_\n",
        "\n",
        "print(f\"\\nBest Parameters for K-Nearest Neighbors: {best_knn_params}\")\n",
        "print(f\"Cross-Validation Accuracy on Training Set: {best_knn_cv_score:.4f}\")"
      ],
      "metadata": {
        "colab": {
          "base_uri": "https://localhost:8080/"
        },
        "id": "129Jor7yJfgn",
        "outputId": "bce0fa20-3bf0-4ffc-810d-3fad0de16c52"
      },
      "execution_count": 50,
      "outputs": [
        {
          "output_type": "stream",
          "name": "stdout",
          "text": [
            "Fitting 5 folds for each of 50 candidates, totalling 250 fits\n",
            "\n",
            "Best Parameters for K-Nearest Neighbors: {'classifier__weights': 'distance', 'classifier__n_neighbors': 7, 'classifier__metric': 'euclidean'}\n",
            "Cross-Validation Accuracy on Training Set: 0.8263\n"
          ]
        }
      ]
    },
    {
      "cell_type": "code",
      "source": [
        "print(\"\\n--- Evaluating the Tuned K-Nearest Neighbors Model on Test Set ---\")\n",
        "\n",
        "y_pred_knn = best_knn_model_pipeline.predict(X_test)\n",
        "y_proba_knn = best_knn_model_pipeline.predict_proba(X_test)[:, 1]\n",
        "\n",
        "accuracy_knn = accuracy_score(y_test, y_pred_knn)\n",
        "precision_knn = precision_score(y_test, y_pred_knn)\n",
        "recall_knn = recall_score(y_test, y_pred_knn)\n",
        "f1_knn = f1_score(y_test, y_pred_knn)\n",
        "roc_auc_knn = roc_auc_score(y_test, y_proba_knn)\n",
        "\n",
        "print(f\"Test Accuracy: {accuracy_knn:.4f}\")\n",
        "print(f\"Test Precision: {precision_knn:.4f}\")\n",
        "print(f\"Test Recall: {recall_knn:.4f}\")\n",
        "print(f\"Test F1-Score: {f1_knn:.4f}\")\n",
        "print(f\"Test ROC-AUC: {roc_auc_knn:.4f}\")"
      ],
      "metadata": {
        "colab": {
          "base_uri": "https://localhost:8080/"
        },
        "id": "35riN_4yIzpY",
        "outputId": "06fc0098-fdc5-4728-cafc-d642edf518bc"
      },
      "execution_count": 51,
      "outputs": [
        {
          "output_type": "stream",
          "name": "stdout",
          "text": [
            "\n",
            "--- Evaluating the Tuned K-Nearest Neighbors Model on Test Set ---\n",
            "Test Accuracy: 0.9016\n",
            "Test Precision: 0.8667\n",
            "Test Recall: 0.9286\n",
            "Test F1-Score: 0.8966\n",
            "Test ROC-AUC: 0.9643\n"
          ]
        }
      ]
    },
    {
      "cell_type": "code",
      "source": [
        "print(f\"\\nClassification Report for Tuned K-Nearest Neighbors:\\n{classification_report(y_test, y_pred_knn)}\")\n",
        "print(f\"\\nConfusion Matrix for Tuned K-Nearest Neighbors:\\n{confusion_matrix(y_test, y_pred_knn)}\")"
      ],
      "metadata": {
        "colab": {
          "base_uri": "https://localhost:8080/"
        },
        "id": "bngU-2UGKBpu",
        "outputId": "7984aac8-c48d-4124-d1c5-bdea0d633194"
      },
      "execution_count": 52,
      "outputs": [
        {
          "output_type": "stream",
          "name": "stdout",
          "text": [
            "\n",
            "Classification Report for Tuned K-Nearest Neighbors:\n",
            "              precision    recall  f1-score   support\n",
            "\n",
            "           0       0.94      0.88      0.91        33\n",
            "           1       0.87      0.93      0.90        28\n",
            "\n",
            "    accuracy                           0.90        61\n",
            "   macro avg       0.90      0.90      0.90        61\n",
            "weighted avg       0.90      0.90      0.90        61\n",
            "\n",
            "\n",
            "Confusion Matrix for Tuned K-Nearest Neighbors:\n",
            "[[29  4]\n",
            " [ 2 26]]\n"
          ]
        }
      ]
    },
    {
      "cell_type": "code",
      "source": [
        "print(\"\\n--- Retraining the Best K-Nearest Neighbors Model on the Full Dataset ---\")\n",
        "final_trained_knn_model = best_knn_model_pipeline # Start with the best pipeline\n",
        "final_trained_knn_model.fit(X, y.values.ravel()) # Retrain on the entire dataset\n",
        "\n",
        "print(f\"\\nFinal Trained K-Nearest Neighbors Model Pipeline:\\n{final_trained_knn_model}\")"
      ],
      "metadata": {
        "colab": {
          "base_uri": "https://localhost:8080/"
        },
        "id": "-j1pF0kRKHix",
        "outputId": "8035e755-1ed1-41eb-d119-a05e685cd491"
      },
      "execution_count": 53,
      "outputs": [
        {
          "output_type": "stream",
          "name": "stdout",
          "text": [
            "\n",
            "--- Retraining the Best K-Nearest Neighbors Model on the Full Dataset ---\n",
            "\n",
            "Final Trained K-Nearest Neighbors Model Pipeline:\n",
            "Pipeline(steps=[('preprocessor',\n",
            "                 ColumnTransformer(transformers=[('num',\n",
            "                                                  Pipeline(steps=[('imputer',\n",
            "                                                                   SimpleImputer(strategy='median')),\n",
            "                                                                  ('scaler',\n",
            "                                                                   StandardScaler())]),\n",
            "                                                  ['age', 'trestbps', 'chol',\n",
            "                                                   'thalach', 'oldpeak']),\n",
            "                                                 ('cat',\n",
            "                                                  Pipeline(steps=[('imputer',\n",
            "                                                                   SimpleImputer(strategy='most_frequent')),\n",
            "                                                                  ('onehot',\n",
            "                                                                   OneHotEncoder(handle_unknown='ignore'))]),\n",
            "                                                  ['sex', 'cp', 'fbs',\n",
            "                                                   'restecg', 'exang', 'slope',\n",
            "                                                   'ca', 'thal'])])),\n",
            "                ('classifier',\n",
            "                 KNeighborsClassifier(metric='euclidean', n_neighbors=7,\n",
            "                                      weights='distance'))])\n"
          ]
        }
      ]
    },
    {
      "cell_type": "code",
      "source": [
        "fig, ax = plt.subplots(figsize=(6, 6))\n",
        "ConfusionMatrixDisplay.from_estimator(final_trained_knn_model, X_test, y_test, cmap=plt.cm.Blues, ax=ax)\n",
        "ax.set_title('Confusion Matrix for Final KNN Model')\n",
        "plt.show()"
      ],
      "metadata": {
        "colab": {
          "base_uri": "https://localhost:8080/",
          "height": 507
        },
        "id": "ia0LULECKxg7",
        "outputId": "acd35013-8116-4243-f992-ca215c7df29c"
      },
      "execution_count": 58,
      "outputs": [
        {
          "output_type": "display_data",
          "data": {
            "text/plain": [
              "<Figure size 600x600 with 2 Axes>"
            ],
            "image/png": "[encoded data removed]"
          },
          "metadata": {}
        }
      ]
    }
  ],
  "metadata": {
    "colab": {
      "provenance": [],
      "authorship_tag": "ABX9TyMN07x60n5+3+G9st9OfEOa",
      "include_colab_link": true
    },
    "kernelspec": {
      "display_name": "Python 3",
      "name": "python3"
    },
    "language_info": {
      "name": "python"
    }
  },
  "nbformat": 4,
  "nbformat_minor": 0
}